{
 "cells": [
  {
   "cell_type": "markdown",
   "id": "371c7e7d-6266-4020-b220-d68183e1b244",
   "metadata": {},
   "source": [
    "##  ライブラリの読み込み"
   ]
  },
  {
   "cell_type": "code",
   "execution_count": 8,
   "id": "dddbcdb8-15ea-4437-a139-833bcaf3f349",
   "metadata": {},
   "outputs": [],
   "source": [
    "import numpy as np\n",
    "import pandas as pd\n",
    "import matplotlib.pyplot as plt\n",
    "\n",
    "import sys\n",
    "import pprint\n",
    "# pprint.pprint(sys.path)\n",
    "sys.path.append('/Users/kawashimayuuki/JupyterLab/finance_machine_learning/Section2')\n",
    "\n",
    "from function import *"
   ]
  },
  {
   "cell_type": "markdown",
   "id": "5e55a9a4-9153-4ba7-88d8-8ceb92fbb7a4",
   "metadata": {},
   "source": [
    "## データ作成"
   ]
  },
  {
   "cell_type": "code",
   "execution_count": 9,
   "id": "a126b529-9ebd-4821-8517-58c12de3988b",
   "metadata": {},
   "outputs": [
    {
     "name": "stdout",
     "output_type": "stream",
     "text": [
      "欠損値の確認\n",
      "TimeStamp      0\n",
      "High         217\n",
      "Low          217\n",
      "Open         217\n",
      "Close        217\n",
      "Volume       217\n",
      "dtype: int64\n",
      "データの形状 (1512, 6)\n"
     ]
    }
   ],
   "source": [
    "code = '3994.T' # マネーフォワード\n",
    "day_length = 30 # 30日分\n",
    "minite_type = 5　# 5分足のデータを取得\n",
    "\n",
    "df = make_data(code, day_length, minite_type)\n",
    "\n",
    "print('欠損値の確認')\n",
    "print(df.isnull().sum())\n",
    "print('データの形状', df.shape)"
   ]
  },
  {
   "cell_type": "code",
   "execution_count": 12,
   "id": "a9ac3a7a-992a-4c3b-8743-9e78a739ec3c",
   "metadata": {},
   "outputs": [],
   "source": [
    "def make_dollar_bar(df, threshold):\n",
    "    df_dropped = df.dropna().reset_index(drop=True)\n",
    "    print('欠損値削除後', df_dropped.shape)\n",
    "    data_length = df_dropped.shape[0]\n",
    "    data_list  = []\n",
    "    df_dropped_list = df_dropped.to_dict('record')\n",
    "    price = 0\n",
    "    for i in range(data_length):\n",
    "        close_data = df_dropped_list[i]['Close']\n",
    "        volume_data = df_dropped_list[i]['Volume']\n",
    "        price += close_data * volume_data\n",
    "        if price > threshold:\n",
    "            data_list.append(df_dropped_list[i])\n",
    "            price = 0\n",
    "    return pd.DataFrame(data_list)"
   ]
  },
  {
   "cell_type": "code",
   "execution_count": 13,
   "id": "7cb61754-2497-4760-bb67-09120a6beb15",
   "metadata": {},
   "outputs": [
    {
     "name": "stdout",
     "output_type": "stream",
     "text": [
      "欠損値削除後 (1295, 6)\n"
     ]
    },
    {
     "name": "stderr",
     "output_type": "stream",
     "text": [
      "/var/folders/5d/q3j1994j7fl4_bhlhckfnjdh0000gn/T/ipykernel_1471/3003941201.py:6: FutureWarning: Using short name for 'orient' is deprecated. Only the options: ('dict', list, 'series', 'split', 'records', 'index') will be used in a future version. Use one of the above to silence this warning.\n",
      "  df_dropped_list = df_dropped.to_dict('record')\n"
     ]
    },
    {
     "data": {
      "text/plain": [
       "(625, 6)"
      ]
     },
     "execution_count": 13,
     "metadata": {},
     "output_type": "execute_result"
    }
   ],
   "source": [
    "dollar_df = make_dollar_bar(df, 100000000)\n",
    "dollar_df.shape"
   ]
  },
  {
   "cell_type": "markdown",
   "id": "a40457d4-d499-4a43-8635-64a2d4e76a36",
   "metadata": {},
   "source": [
    "## リターンの作成"
   ]
  },
  {
   "cell_type": "code",
   "execution_count": 14,
   "id": "6fc72e41-e304-44a0-8968-f0e4c2c8c5ec",
   "metadata": {},
   "outputs": [],
   "source": [
    "df_dropped = df.dropna().reset_index(drop=True)\n",
    "df_dropped['PrevClose'] = df_dropped['Close'].shift(1)\n",
    "df_dropped['CloseReturn'] = (df_dropped['Close'] - df_dropped['PrevClose']) / df_dropped['PrevClose']\n",
    "\n",
    "dollar_df['PrevClose'] = dollar_df['Close'].shift(1)\n",
    "dollar_df['CloseReturn'] = (dollar_df['Close'] - dollar_df['PrevClose']) / dollar_df['PrevClose']"
   ]
  },
  {
   "cell_type": "code",
   "execution_count": 24,
   "id": "33553955-740e-4819-aa6f-dd9566587973",
   "metadata": {},
   "outputs": [
    {
     "data": {
      "image/png": "[encoded data removed]",
      "text/plain": [
       "<Figure size 720x432 with 1 Axes>"
      ]
     },
     "metadata": {
      "needs_background": "light"
     },
     "output_type": "display_data"
    }
   ],
   "source": [
    "plt.figure(figsize=(10, 6))\n",
    "plt.hist(df_dropped['CloseReturn'].values, alpha=0.5, bins=20, density=True, label='Original')\n",
    "plt.hist(dollar_df['CloseReturn'].values, alpha=0.5, bins=20, density=True, label='Dollar')\n",
    "plt.legend()\n",
    "plt.title('MoneyForward Return')\n",
    "plt.grid(True)\n",
    "plt.show()"
   ]
  },
  {
   "cell_type": "markdown",
   "id": "dbcf4b9d-5b12-4e42-8611-b253efcf9e10",
   "metadata": {},
   "source": [
    "## 日次データでも確認"
   ]
  },
  {
   "cell_type": "code",
   "execution_count": 17,
   "id": "e39b7f01-f4e7-477b-9016-51930d01df0c",
   "metadata": {},
   "outputs": [],
   "source": [
    "import datetime\n",
    "import pandas_datareader.data as web"
   ]
  },
  {
   "cell_type": "code",
   "execution_count": 38,
   "id": "46369467-5f3a-455f-a830-36da64dd3bf7",
   "metadata": {},
   "outputs": [
    {
     "name": "stdout",
     "output_type": "stream",
     "text": [
      "欠損値の確認\n",
      "High         0\n",
      "Low          0\n",
      "Open         0\n",
      "Close        0\n",
      "Volume       0\n",
      "Adj Close    0\n",
      "dtype: int64\n",
      "形状の確認 (2526, 6)\n"
     ]
    }
   ],
   "source": [
    "toyota_code = '7203.T'\n",
    "start = datetime.date(2012, 1, 1)\n",
    "end = datetime.date(2022, 3, 30)\n",
    "\n",
    "day_df = web.DataReader(toyota_code, 'yahoo', start, end)\n",
    "print('欠損値の確認')\n",
    "print(day_df.isnull().sum())\n",
    "print('形状の確認', day_df.shape)"
   ]
  },
  {
   "cell_type": "code",
   "execution_count": 39,
   "id": "0414012d-2ce1-41ac-ad60-6a7504139130",
   "metadata": {},
   "outputs": [
    {
     "data": {
      "text/html": [
       "<div>\n",
       "<style scoped>\n",
       "    .dataframe tbody tr th:only-of-type {\n",
       "        vertical-align: middle;\n",
       "    }\n",
       "\n",
       "    .dataframe tbody tr th {\n",
       "        vertical-align: top;\n",
       "    }\n",
       "\n",
       "    .dataframe thead th {\n",
       "        text-align: right;\n",
       "    }\n",
       "</style>\n",
       "<table border=\"1\" class=\"dataframe\">\n",
       "  <thead>\n",
       "    <tr style=\"text-align: right;\">\n",
       "      <th></th>\n",
       "      <th>Date</th>\n",
       "      <th>High</th>\n",
       "      <th>Low</th>\n",
       "      <th>Open</th>\n",
       "      <th>Close</th>\n",
       "      <th>Volume</th>\n",
       "      <th>Adj Close</th>\n",
       "    </tr>\n",
       "  </thead>\n",
       "  <tbody>\n",
       "    <tr>\n",
       "      <th>0</th>\n",
       "      <td>2012-01-04</td>\n",
       "      <td>530.799988</td>\n",
       "      <td>520.000000</td>\n",
       "      <td>522.200012</td>\n",
       "      <td>528.799988</td>\n",
       "      <td>49682000.0</td>\n",
       "      <td>369.688965</td>\n",
       "    </tr>\n",
       "    <tr>\n",
       "      <th>1</th>\n",
       "      <td>2012-01-05</td>\n",
       "      <td>531.799988</td>\n",
       "      <td>526.599976</td>\n",
       "      <td>529.200012</td>\n",
       "      <td>528.799988</td>\n",
       "      <td>39275500.0</td>\n",
       "      <td>369.688965</td>\n",
       "    </tr>\n",
       "    <tr>\n",
       "      <th>2</th>\n",
       "      <td>2012-01-06</td>\n",
       "      <td>529.000000</td>\n",
       "      <td>523.599976</td>\n",
       "      <td>528.799988</td>\n",
       "      <td>527.599976</td>\n",
       "      <td>31668500.0</td>\n",
       "      <td>368.850037</td>\n",
       "    </tr>\n",
       "    <tr>\n",
       "      <th>3</th>\n",
       "      <td>2012-01-10</td>\n",
       "      <td>529.400024</td>\n",
       "      <td>524.599976</td>\n",
       "      <td>528.000000</td>\n",
       "      <td>525.200012</td>\n",
       "      <td>23590500.0</td>\n",
       "      <td>367.172211</td>\n",
       "    </tr>\n",
       "    <tr>\n",
       "      <th>4</th>\n",
       "      <td>2012-01-11</td>\n",
       "      <td>527.599976</td>\n",
       "      <td>522.000000</td>\n",
       "      <td>526.000000</td>\n",
       "      <td>525.200012</td>\n",
       "      <td>18792000.0</td>\n",
       "      <td>367.172211</td>\n",
       "    </tr>\n",
       "  </tbody>\n",
       "</table>\n",
       "</div>"
      ],
      "text/plain": [
       "        Date        High         Low        Open       Close      Volume  \\\n",
       "0 2012-01-04  530.799988  520.000000  522.200012  528.799988  49682000.0   \n",
       "1 2012-01-05  531.799988  526.599976  529.200012  528.799988  39275500.0   \n",
       "2 2012-01-06  529.000000  523.599976  528.799988  527.599976  31668500.0   \n",
       "3 2012-01-10  529.400024  524.599976  528.000000  525.200012  23590500.0   \n",
       "4 2012-01-11  527.599976  522.000000  526.000000  525.200012  18792000.0   \n",
       "\n",
       "    Adj Close  \n",
       "0  369.688965  \n",
       "1  369.688965  \n",
       "2  368.850037  \n",
       "3  367.172211  \n",
       "4  367.172211  "
      ]
     },
     "execution_count": 39,
     "metadata": {},
     "output_type": "execute_result"
    }
   ],
   "source": [
    "day_df.reset_index(inplace=True)\n",
    "day_df.head()"
   ]
  },
  {
   "cell_type": "code",
   "execution_count": 40,
   "id": "99e23ed2-c2ba-4208-b475-d898461385a3",
   "metadata": {},
   "outputs": [
    {
     "name": "stdout",
     "output_type": "stream",
     "text": [
      "欠損値削除後 (2526, 7)\n"
     ]
    },
    {
     "name": "stderr",
     "output_type": "stream",
     "text": [
      "/var/folders/5d/q3j1994j7fl4_bhlhckfnjdh0000gn/T/ipykernel_1471/3003941201.py:6: FutureWarning: Using short name for 'orient' is deprecated. Only the options: ('dict', list, 'series', 'split', 'records', 'index') will be used in a future version. Use one of the above to silence this warning.\n",
      "  df_dropped_list = df_dropped.to_dict('record')\n"
     ]
    },
    {
     "data": {
      "text/plain": [
       "(963, 7)"
      ]
     },
     "execution_count": 40,
     "metadata": {},
     "output_type": "execute_result"
    }
   ],
   "source": [
    "threshold = 100000000000\n",
    "day_dollar_df = make_dollar_bar(day_df, threshold)\n",
    "day_dollar_df.shape"
   ]
  },
  {
   "cell_type": "code",
   "execution_count": 41,
   "id": "6963d562-1dda-40f8-9024-7b1fe71bc2b7",
   "metadata": {},
   "outputs": [
    {
     "data": {
      "text/html": [
       "<div>\n",
       "<style scoped>\n",
       "    .dataframe tbody tr th:only-of-type {\n",
       "        vertical-align: middle;\n",
       "    }\n",
       "\n",
       "    .dataframe tbody tr th {\n",
       "        vertical-align: top;\n",
       "    }\n",
       "\n",
       "    .dataframe thead th {\n",
       "        text-align: right;\n",
       "    }\n",
       "</style>\n",
       "<table border=\"1\" class=\"dataframe\">\n",
       "  <thead>\n",
       "    <tr style=\"text-align: right;\">\n",
       "      <th></th>\n",
       "      <th>Date</th>\n",
       "      <th>High</th>\n",
       "      <th>Low</th>\n",
       "      <th>Open</th>\n",
       "      <th>Close</th>\n",
       "      <th>Volume</th>\n",
       "      <th>Adj Close</th>\n",
       "    </tr>\n",
       "  </thead>\n",
       "  <tbody>\n",
       "    <tr>\n",
       "      <th>0</th>\n",
       "      <td>2012-01-13</td>\n",
       "      <td>529.599976</td>\n",
       "      <td>523.000000</td>\n",
       "      <td>523.000000</td>\n",
       "      <td>527.400024</td>\n",
       "      <td>35402000.0</td>\n",
       "      <td>368.710236</td>\n",
       "    </tr>\n",
       "    <tr>\n",
       "      <th>1</th>\n",
       "      <td>2012-01-23</td>\n",
       "      <td>551.400024</td>\n",
       "      <td>543.400024</td>\n",
       "      <td>547.799988</td>\n",
       "      <td>544.000000</td>\n",
       "      <td>26528500.0</td>\n",
       "      <td>380.315460</td>\n",
       "    </tr>\n",
       "    <tr>\n",
       "      <th>2</th>\n",
       "      <td>2012-01-27</td>\n",
       "      <td>577.400024</td>\n",
       "      <td>566.400024</td>\n",
       "      <td>576.200012</td>\n",
       "      <td>567.599976</td>\n",
       "      <td>51224500.0</td>\n",
       "      <td>396.814423</td>\n",
       "    </tr>\n",
       "    <tr>\n",
       "      <th>3</th>\n",
       "      <td>2012-02-03</td>\n",
       "      <td>588.000000</td>\n",
       "      <td>578.799988</td>\n",
       "      <td>583.799988</td>\n",
       "      <td>579.799988</td>\n",
       "      <td>34523500.0</td>\n",
       "      <td>405.343567</td>\n",
       "    </tr>\n",
       "    <tr>\n",
       "      <th>4</th>\n",
       "      <td>2012-02-09</td>\n",
       "      <td>630.000000</td>\n",
       "      <td>621.000000</td>\n",
       "      <td>627.000000</td>\n",
       "      <td>626.000000</td>\n",
       "      <td>50810000.0</td>\n",
       "      <td>437.642395</td>\n",
       "    </tr>\n",
       "  </tbody>\n",
       "</table>\n",
       "</div>"
      ],
      "text/plain": [
       "        Date        High         Low        Open       Close      Volume  \\\n",
       "0 2012-01-13  529.599976  523.000000  523.000000  527.400024  35402000.0   \n",
       "1 2012-01-23  551.400024  543.400024  547.799988  544.000000  26528500.0   \n",
       "2 2012-01-27  577.400024  566.400024  576.200012  567.599976  51224500.0   \n",
       "3 2012-02-03  588.000000  578.799988  583.799988  579.799988  34523500.0   \n",
       "4 2012-02-09  630.000000  621.000000  627.000000  626.000000  50810000.0   \n",
       "\n",
       "    Adj Close  \n",
       "0  368.710236  \n",
       "1  380.315460  \n",
       "2  396.814423  \n",
       "3  405.343567  \n",
       "4  437.642395  "
      ]
     },
     "execution_count": 41,
     "metadata": {},
     "output_type": "execute_result"
    }
   ],
   "source": [
    "day_dollar_df.head()"
   ]
  },
  {
   "cell_type": "code",
   "execution_count": 42,
   "id": "28b4787d-3628-44b9-ad8e-7b6144e481e6",
   "metadata": {},
   "outputs": [],
   "source": [
    "day_df_dropped = day_df.dropna().reset_index(drop=True)\n",
    "day_df_dropped['PrevClose'] = day_df_dropped['Close'].shift(1)\n",
    "day_df_dropped['CloseReturn'] = (day_df_dropped['Close'] - day_df_dropped['PrevClose']) / day_df_dropped['PrevClose']\n",
    "\n",
    "day_dollar_df['PrevClose'] = day_dollar_df['Close'].shift(1)\n",
    "day_dollar_df['CloseReturn'] = (day_dollar_df['Close'] - day_dollar_df['PrevClose']) / day_dollar_df['PrevClose']"
   ]
  },
  {
   "cell_type": "code",
   "execution_count": 43,
   "id": "2c08c019-6cf6-4286-87a1-45b0ccdc2efc",
   "metadata": {},
   "outputs": [
    {
     "data": {
      "image/png": "[encoded data removed]",
      "text/plain": [
       "<Figure size 720x432 with 1 Axes>"
      ]
     },
     "metadata": {
      "needs_background": "light"
     },
     "output_type": "display_data"
    }
   ],
   "source": [
    "plt.figure(figsize=(10, 6))\n",
    "plt.hist(day_df_dropped['CloseReturn'].values, alpha=0.5, bins=20, density=True, label='Original')\n",
    "plt.hist(day_dollar_df['CloseReturn'].values, alpha=0.5, bins=20, density=True, label='Dollar')\n",
    "plt.legend()\n",
    "plt.title('TOYOTA Return')\n",
    "plt.grid(True)\n",
    "plt.show()"
   ]
  },
  {
   "cell_type": "code",
   "execution_count": null,
   "id": "893f6b67-a04d-4bc8-859f-c0240ec3994d",
   "metadata": {},
   "outputs": [],
   "source": []
  }
 ],
 "metadata": {
  "kernelspec": {
   "display_name": "Python 3 (ipykernel)",
   "language": "python",
   "name": "python3"
  },
  "language_info": {
   "codemirror_mode": {
    "name": "ipython",
    "version": 3
   },
   "file_extension": ".py",
   "mimetype": "text/x-python",
   "name": "python",
   "nbconvert_exporter": "python",
   "pygments_lexer": "ipython3",
   "version": "3.8.13"
  }
 },
 "nbformat": 4,
 "nbformat_minor": 5
}
