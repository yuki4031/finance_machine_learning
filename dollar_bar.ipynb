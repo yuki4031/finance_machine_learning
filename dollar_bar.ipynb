{
  "nbformat": 4,
  "nbformat_minor": 0,
  "metadata": {
    "colab": {
      "name": "dollar_bar.ipynb",
      "provenance": [],
      "collapsed_sections": [],
      "authorship_tag": "ABX9TyPnX7R0QnGHu9QYu7bY50QI",
      "include_colab_link": true
    },
    "kernelspec": {
      "name": "python3",
      "display_name": "Python 3"
    },
    "language_info": {
      "name": "python"
    }
  },
  "cells": [
    {
      "cell_type": "markdown",
      "metadata": {
        "id": "view-in-github",
        "colab_type": "text"
      },
      "source": [
        "<a href=\"https://colab.research.google.com/github/yuki4031/finance_machine_learning/blob/master/dollar_bar.ipynb\" target=\"_parent\"><img src=\"https://colab.research.google.com/assets/colab-badge.svg\" alt=\"Open In Colab\"/></a>"
      ]
    },
    {
      "cell_type": "markdown",
      "source": [
        "## ドライブのマウント"
      ],
      "metadata": {
        "id": "YcVtmzAWFYl0"
      }
    },
    {
      "cell_type": "code",
      "execution_count": 16,
      "metadata": {
        "id": "FbZe4it5qzT6",
        "colab": {
          "base_uri": "https://localhost:8080/"
        },
        "outputId": "39bdb622-bf5c-4934-b48b-47d3c9fcd360"
      },
      "outputs": [
        {
          "output_type": "stream",
          "name": "stdout",
          "text": [
            "Drive already mounted at /content/drive; to attempt to forcibly remount, call drive.mount(\"/content/drive\", force_remount=True).\n"
          ]
        }
      ],
      "source": [
        "from google.colab import drive\n",
        "drive.mount('/content/drive')"
      ]
    },
    {
      "cell_type": "code",
      "source": [
        "import sys\n",
        "ROOT_PATH = 'drive/My Drive/Colab Notebooks/finance_machine_learning'\n",
        "sys.path.append(ROOT_PATH)"
      ],
      "metadata": {
        "id": "srdYv1zmsKip"
      },
      "execution_count": 17,
      "outputs": []
    },
    {
      "cell_type": "code",
      "source": [
        "# pip install yahoo-finance-api2"
      ],
      "metadata": {
        "colab": {
          "base_uri": "https://localhost:8080/"
        },
        "id": "razo6w7Pswnf",
        "outputId": "219b1acb-1679-4676-eef0-84633bd63fe2"
      },
      "execution_count": null,
      "outputs": [
        {
          "output_type": "stream",
          "name": "stdout",
          "text": [
            "Collecting yahoo-finance-api2\n",
            "  Downloading yahoo_finance_api2-0.0.12.tar.gz (3.2 kB)\n",
            "Requirement already satisfied: pyyaml in /usr/local/lib/python3.7/dist-packages (from yahoo-finance-api2) (3.13)\n",
            "Requirement already satisfied: requests in /usr/local/lib/python3.7/dist-packages (from yahoo-finance-api2) (2.23.0)\n",
            "Requirement already satisfied: chardet<4,>=3.0.2 in /usr/local/lib/python3.7/dist-packages (from requests->yahoo-finance-api2) (3.0.4)\n",
            "Requirement already satisfied: certifi>=2017.4.17 in /usr/local/lib/python3.7/dist-packages (from requests->yahoo-finance-api2) (2021.10.8)\n",
            "Requirement already satisfied: urllib3!=1.25.0,!=1.25.1,<1.26,>=1.21.1 in /usr/local/lib/python3.7/dist-packages (from requests->yahoo-finance-api2) (1.24.3)\n",
            "Requirement already satisfied: idna<3,>=2.5 in /usr/local/lib/python3.7/dist-packages (from requests->yahoo-finance-api2) (2.10)\n",
            "Building wheels for collected packages: yahoo-finance-api2\n",
            "  Building wheel for yahoo-finance-api2 (setup.py) ... \u001b[?25l\u001b[?25hdone\n",
            "  Created wheel for yahoo-finance-api2: filename=yahoo_finance_api2-0.0.12-py3-none-any.whl size=3731 sha256=b133d094e7df6b01428c21bc1836b91d22213ebb1a192506ce7763f94a0fcb17\n",
            "  Stored in directory: /root/.cache/pip/wheels/df/83/e1/df62dc96545acda58900be732f6eca5f34c84f28c9bd882f75\n",
            "Successfully built yahoo-finance-api2\n",
            "Installing collected packages: yahoo-finance-api2\n",
            "Successfully installed yahoo-finance-api2-0.0.12\n"
          ]
        }
      ]
    },
    {
      "cell_type": "markdown",
      "source": [
        "## ライブラリの読み込み"
      ],
      "metadata": {
        "id": "5gvvvGjSFgAS"
      }
    },
    {
      "cell_type": "code",
      "source": [
        "import numpy as np\n",
        "import pandas as pd\n",
        "import matplotlib.pyplot as plt\n",
        "\n",
        "from function import *"
      ],
      "metadata": {
        "id": "TLeg7ZXJs2cT"
      },
      "execution_count": 36,
      "outputs": []
    },
    {
      "cell_type": "markdown",
      "source": [
        "## データ作成"
      ],
      "metadata": {
        "id": "rm-axZ-HFjd7"
      }
    },
    {
      "cell_type": "code",
      "source": [
        "code = '3994.T' # マネーフォワード\n",
        "day_length = 30\n",
        "minite_type = 5\n",
        "\n",
        "df = make_data(code, day_length, minite_type)\n",
        "\n",
        "print('欠損地の確認')\n",
        "print(df.isnull().sum())\n",
        "print('データの形状', df.shape)"
      ],
      "metadata": {
        "id": "g6ZzQ_7fuaN3",
        "colab": {
          "base_uri": "https://localhost:8080/"
        },
        "outputId": "ebb1d55f-4cc5-4427-b73a-6694c33060dd"
      },
      "execution_count": 37,
      "outputs": [
        {
          "output_type": "stream",
          "name": "stdout",
          "text": [
            "欠損地の確認\n",
            "TimeStamp      0\n",
            "High         209\n",
            "Low          209\n",
            "Open         209\n",
            "Close        209\n",
            "Volume       209\n",
            "dtype: int64\n",
            "データの形状 (1440, 6)\n"
          ]
        }
      ]
    },
    {
      "cell_type": "code",
      "source": [
        "def make_dollar_bar(df, threshold):\n",
        "  df_dropped = df.dropna().reset_index(drop=True)\n",
        "  print('欠損値削除後', df_dropped.shape)\n",
        "  data_length = df_dropped.shape[0]\n",
        "  data_list  = []\n",
        "  df_dropped_list = df_dropped.to_dict('record')\n",
        "  price = 0\n",
        "  for i in range(data_length):\n",
        "    close_data = df_dropped_list[i]['Close']\n",
        "    volume_data = df_dropped_list[i]['Volume']\n",
        "    price += close_data * volume_data\n",
        "    if price > threshold:\n",
        "      data_list.append(df_dropped_list[i])\n",
        "      price = 0\n",
        "  return pd.DataFrame(data_list)"
      ],
      "metadata": {
        "id": "xAUrS88vv7rk"
      },
      "execution_count": 45,
      "outputs": []
    },
    {
      "cell_type": "code",
      "source": [
        "dollar_df = make_dollar_bar(df, 100000000)\n",
        "dollar_df.shape"
      ],
      "metadata": {
        "colab": {
          "base_uri": "https://localhost:8080/"
        },
        "id": "X85IBnbfxfIz",
        "outputId": "c83fc4b0-98e5-4140-a7b1-a1496bf5d43c"
      },
      "execution_count": 50,
      "outputs": [
        {
          "output_type": "stream",
          "name": "stdout",
          "text": [
            "欠損値削除後 (1231, 6)\n"
          ]
        },
        {
          "output_type": "stream",
          "name": "stderr",
          "text": [
            "/usr/local/lib/python3.7/dist-packages/ipykernel_launcher.py:6: FutureWarning: Using short name for 'orient' is deprecated. Only the options: ('dict', list, 'series', 'split', 'records', 'index') will be used in a future version. Use one of the above to silence this warning.\n",
            "  \n"
          ]
        },
        {
          "output_type": "execute_result",
          "data": {
            "text/plain": [
              "(638, 6)"
            ]
          },
          "metadata": {},
          "execution_count": 50
        }
      ]
    },
    {
      "cell_type": "markdown",
      "source": [
        "## リターンの作成"
      ],
      "metadata": {
        "id": "-dDwn-JjFpQ0"
      }
    },
    {
      "cell_type": "code",
      "source": [
        "df_dropped = df.dropna().reset_index(drop=True)\n",
        "df_dropped['PrevClose'] = df_dropped['Close'].shift(1)\n",
        "df_dropped['CloseReturn'] = (df_dropped['Close'] - df_dropped['PrevClose']) / df_dropped['PrevClose']\n",
        "\n",
        "dollar_df['PrevClose'] = dollar_df['Close'].shift(1)\n",
        "dollar_df['CloseReturn'] = (dollar_df['Close'] - dollar_df['PrevClose']) / dollar_df['PrevClose']"
      ],
      "metadata": {
        "id": "ekukyO6IziyL"
      },
      "execution_count": 51,
      "outputs": []
    },
    {
      "cell_type": "code",
      "source": [
        "plt.figure(figsize=(10, 6))\n",
        "plt.hist(df_dropped['CloseReturn'].values, alpha=0.5, bins=20, density=True, label='Original')\n",
        "plt.hist(dollar_df['CloseReturn'].values, alpha=0.5, bins=20, density=True, label='Dollar')\n",
        "plt.legend()\n",
        "plt.grid(True)\n",
        "plt.show()"
      ],
      "metadata": {
        "colab": {
          "base_uri": "https://localhost:8080/",
          "height": 374
        },
        "id": "dhnQHUULxlqx",
        "outputId": "f72436af-7898-4ad1-b63e-68e8e1f863a7"
      },
      "execution_count": 52,
      "outputs": [
        {
          "output_type": "display_data",
          "data": {
            "text/plain": [
              "<Figure size 720x432 with 1 Axes>"
            ],
            "image/png": "[encoded data removed]"
          },
          "metadata": {
            "needs_background": "light"
          }
        }
      ]
    },
    {
      "cell_type": "code",
      "source": [
        ""
      ],
      "metadata": {
        "id": "qzcSYqBPzOFi"
      },
      "execution_count": 41,
      "outputs": []
    }
  ]
}