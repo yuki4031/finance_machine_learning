{
 "cells": [
  {
   "cell_type": "markdown",
   "id": "07d17f80-6dbe-44d8-aef0-bbf2c94581f4",
   "metadata": {},
   "source": [
    "## ライブラリの読み込み"
   ]
  },
  {
   "cell_type": "code",
   "execution_count": 90,
   "id": "19d2fbce-460b-42e2-97bc-f230ed676025",
   "metadata": {},
   "outputs": [],
   "source": [
    "import numpy as np\n",
    "import pandas as pd\n",
    "import pandas_datareader.data as web\n",
    "import japanize_matplotlib\n",
    "import matplotlib.pyplot as plt\n",
    "%matplotlib inline\n",
    "\n",
    "import datetime\n",
    "from tqdm import tqdm\n",
    "import scipy.stats as stats\n",
    "import math\n",
    "import matplotlib as mpl\n",
    "import seaborn as sns\n",
    "import python_bitbankcc\n",
    "\n",
    "plt.rcParams['font.size'] = 15\n",
    "\n",
    "import warnings\n",
    "warnings.filterwarnings(\"ignore\")"
   ]
  },
  {
   "cell_type": "code",
   "execution_count": 91,
   "id": "b2e36c18-0071-4e0d-8fac-8645a0e4bd54",
   "metadata": {},
   "outputs": [],
   "source": [
    "# pip install seaborn"
   ]
  },
  {
   "cell_type": "markdown",
   "id": "9979eb05-9cc1-4787-b312-fbf85124d4c4",
   "metadata": {},
   "source": [
    "## コードスニペット"
   ]
  },
  {
   "cell_type": "markdown",
   "id": "be381e10-6c75-4931-9d41-260cd376ee20",
   "metadata": {},
   "source": [
    "### ビットコインデータ取得"
   ]
  },
  {
   "cell_type": "code",
   "execution_count": 92,
   "id": "328fcce9-7d05-46b8-957b-7d64b6d22409",
   "metadata": {},
   "outputs": [],
   "source": [
    "def get_data(start,end,pair,candle_type):\n",
    "    \n",
    "    #パブリックAPIのオブジェクトを取得\n",
    "    pub = python_bitbankcc.public()\n",
    "    \n",
    "    #引数を日付データに変換\n",
    "    start_date = datetime.datetime.strptime(start,\"%Y%m%d\")\n",
    "    end_date = datetime.datetime.strptime(end,\"%Y%m%d\")\n",
    "    \n",
    "    #日付の引き算\n",
    "    span = end_date - start_date\n",
    "    \n",
    "    #データを入れる配列を定義しておく\n",
    "    ohlcv_data = []\n",
    "    \n",
    "    \n",
    "    #1時間ごとに時間足データを取得し、結合していく\n",
    "    for counter in tqdm(range(span.days + 1)):\n",
    "        \n",
    "        #日付の計算\n",
    "        the_day = start_date + datetime.timedelta(days = counter)\n",
    "        \n",
    "        #データが欠損している部分は無視する\n",
    "        try:\n",
    "            #パブリックAPIのインスタンス化\n",
    "            value = pub.get_candlestick(pair, candle_type, the_day.strftime(\"%Y%m%d\"))\n",
    "\n",
    "            #データ部分の抽出\n",
    "            ohlcv = value[\"candlestick\"][0]['ohlcv']\n",
    "            \n",
    "            #結合\n",
    "            ohlcv_data.extend(ohlcv)\n",
    "        \n",
    "        except:\n",
    "            pass\n",
    "    \n",
    "    \n",
    "    #データフレームに変換\n",
    "    col = [\"Open\",\"High\",\"Low\",\"Close\",\"Volume\",\"Unix Time\"]\n",
    "    df_sum = pd.DataFrame(ohlcv_data, columns = col)\n",
    "    df_sum['DateTime'] = pd.to_datetime(df_sum['Unix Time'].astype(int), unit='ms')\n",
    "    df_sum.drop(['Unix Time'], axis=1, inplace=True)\n",
    "    df_sum.index = df_sum['DateTime']\n",
    "    df_sum.drop(['DateTime'], axis=1, inplace=True)\n",
    "    \n",
    "    return df_sum"
   ]
  },
  {
   "cell_type": "markdown",
   "id": "4ec222e4-9170-4cd2-aaf2-e6d014befefc",
   "metadata": {},
   "source": [
    "### ドルバーの作成"
   ]
  },
  {
   "cell_type": "code",
   "execution_count": 93,
   "id": "cdcae714-c92b-4c62-afcf-a765a0dfde58",
   "metadata": {},
   "outputs": [],
   "source": [
    "def dollar_bars(df, dv_column, m):\n",
    "    '''\n",
    "    ドルバーを計算する\n",
    "    # 引数\n",
    "        df: pd.DataFrame()\n",
    "        column: ドル出来高の列名\n",
    "        m: int(), 閾値\n",
    "    # returns\n",
    "        idx: indexのリスト\n",
    "    '''\n",
    "    t = df[dv_column]\n",
    "    ts = 0\n",
    "    idx = []\n",
    "    for i, x in enumerate(tqdm(t)):\n",
    "        ts += x\n",
    "        if ts >= m:\n",
    "            idx.append(i)\n",
    "            ts = 0\n",
    "            continue\n",
    "    return idx\n",
    "\n",
    "def dollar_bar_df(df, dv_column, m):\n",
    "    idx = dollar_bars(df, dv_column, m)\n",
    "    return df.iloc[idx]"
   ]
  },
  {
   "cell_type": "markdown",
   "id": "bf2ac49d-4419-4cf1-a084-4ac79371a2f5",
   "metadata": {},
   "source": [
    "### ラベルの独自性（ユニークネス）の推定"
   ]
  },
  {
   "cell_type": "code",
   "execution_count": 116,
   "id": "2733c6e1-06de-4851-9932-cafa323bd110",
   "metadata": {},
   "outputs": [],
   "source": [
    "def mp_num_co_events(close_idx, t1, molecule):\n",
    "    '''\n",
    "    バーごとの同時発生的な事象の数を計算する\n",
    "    +molecule[0]はウェイトが計算される最初の日付\n",
    "    +molecule[-1]はウェイトが計算される最後の日付\n",
    "    t1[molecule].max()の前に始まる事象は全て計算に影響する\n",
    "    '''\n",
    "    #1 期間[molecule[0], molecule[-1]]に及ぶ事象を見つける\n",
    "    # クローズしていない事象は他のウェイトに影響しなければならない\n",
    "    t1 = t1.fillna(close_idx[-1])\n",
    "    # 時点molecule[0]またはその後に終わる事象\n",
    "    t1 = t1[t1>=molecule[0]]\n",
    "    # 時点t1[molecule].max()またはその前に始まる事象\n",
    "    t1 = t1.loc[:t1[molecule].max()]\n",
    "    \n",
    "    # バーに及ぶ事象を数える\n",
    "    iloc = close_idx.searchsorted(np.array([t1.index[0], t1.max()]))\n",
    "    count = pd.Series(0, index=close_idx[iloc[0]:iloc[1]+1])\n",
    "    for t_in, t_out in t1.iteritems():\n",
    "        count.loc[t_in:i_out] += 1.\n",
    "    return count.loc[molecule[0]:t1[molecule].max()]"
   ]
  },
  {
   "cell_type": "markdown",
   "id": "9853c8bb-b708-4666-b040-d4277d71f824",
   "metadata": {},
   "source": [
    "### ラベルの平均独自性の推定"
   ]
  },
  {
   "cell_type": "code",
   "execution_count": 95,
   "id": "a8354b61-0512-4b98-b99e-cd6d4f3ced4f",
   "metadata": {},
   "outputs": [],
   "source": [
    "def mp_sample_tw(t1, num_co_events, molecule):\n",
    "    # 事象の存続期間にわたる平均独自性を導出する\n",
    "    weight = pd.Series(index=molecule)\n",
    "    for t_in, t_out in t1.loc[weight.index].iteritems():\n",
    "        weight.loc[t_in] = (1./num_co_events.loc[t_in:t_out]).mean()\n",
    "    return weight"
   ]
  },
  {
   "cell_type": "markdown",
   "id": "decd8c4f-bd6e-4dcf-965c-8ec973ed4b87",
   "metadata": {},
   "source": [
    "### インディケーター行列の構築"
   ]
  },
  {
   "cell_type": "code",
   "execution_count": 96,
   "id": "eed12cd3-7521-42d3-a6d2-2b3812422fa1",
   "metadata": {},
   "outputs": [],
   "source": [
    "def get_ind_matrix(bar_ix, t1):\n",
    "    # インディケーター行列を計算する\n",
    "    ind_m = pd.DataFrame(0, index=bar_ix, columns=range(t1.shape[0]))\n",
    "    for i, (t0, t1) in enumerate(t1.iteritems()):\n",
    "        ind_m.loc[t0:t1, i] = 1.\n",
    "    return ind_m"
   ]
  },
  {
   "cell_type": "markdown",
   "id": "86c2a707-5634-4a3b-88c5-29b6c0b40989",
   "metadata": {},
   "source": [
    "### 平均独自性の計算"
   ]
  },
  {
   "cell_type": "code",
   "execution_count": 97,
   "id": "7975560f-9af6-4883-b5f2-ea5812e4796f",
   "metadata": {},
   "outputs": [],
   "source": [
    "def get_avg_uniqueness(ind_m):\n",
    "    # インディケーター行列から平均独自性を計算する\n",
    "    c = ind_m.sum(axis=1) # 同時発生性\n",
    "    u = ind_m.div(c, axis=0) # 独自性\n",
    "    avg_u = u[u>0].mean() # 平均独自性\n",
    "    return avg_u"
   ]
  },
  {
   "cell_type": "markdown",
   "id": "3065fe04-3a48-43a7-8af9-45c9f3f109f2",
   "metadata": {},
   "source": [
    "### 逐次ブートストラップからの抽出"
   ]
  },
  {
   "cell_type": "code",
   "execution_count": 98,
   "id": "0e99251e-0dd8-4d80-bef4-f5145bcd1345",
   "metadata": {},
   "outputs": [],
   "source": [
    "def seq_bootstrap(ind_m, s_length=None):\n",
    "    # 逐次ブートストラップを通じてサンプルを生成する\n",
    "    if s_length is None:s_length=ind_m.shape[1]\n",
    "    phi=[]\n",
    "    while len(phi)<s_length:\n",
    "        avg_u=pd.Series()\n",
    "        for i in ind_m:\n",
    "            ind_m_=ind_m[phi+[i]] # ind_mを縮める\n",
    "            avg_u.loc[i]=get_avg_uniquness(ind_m_).iloc[-1]\n",
    "        prob=avg_u/avg_u.sum() # 抽出確率\n",
    "        phi+=[np.random.choice(ind_m.columns,p=prob)]\n",
    "    return phi"
   ]
  },
  {
   "cell_type": "markdown",
   "id": "f74917fb-24f8-45c1-b729-fd2e9c5a46ed",
   "metadata": {},
   "source": [
    "### 絶対リターンの帰属による標本ウェイトの決定"
   ]
  },
  {
   "cell_type": "code",
   "execution_count": 99,
   "id": "6159e231-f33d-436b-b996-46d70a5ea20a",
   "metadata": {},
   "outputs": [],
   "source": [
    "def mp_sample_w(t1,num_co_events,close,molecule):\n",
    "    # リターンの大きさにより標本ウェイトを調整する\n",
    "    # 加法的にするために対数リターンにする\n",
    "    ret=np.log(close).diff()\n",
    "    weight=pd.Series(index=molecule)\n",
    "    for t_in,t_out in t1.loc[weight.index].iteritems():\n",
    "        weight.loc[t_in]=(ret.loc[t_in:t_out]/num_co_events.loc[t_in:t_out]).sum()\n",
    "    return weight.abs()"
   ]
  },
  {
   "cell_type": "markdown",
   "id": "05569e47-e5c8-47df-a93a-8399e2381b15",
   "metadata": {},
   "source": [
    "### 時間減衰ファクターの実装"
   ]
  },
  {
   "cell_type": "code",
   "execution_count": 100,
   "id": "090fe1b5-26eb-4a4d-a83e-55ae85d946ef",
   "metadata": {},
   "outputs": [],
   "source": [
    "def get_time_decay(t_w,clf_last_w=1.):\n",
    "    # 観測された独自性(t_w)に区分線形な減衰を適用する\n",
    "    # 最も新しい観測値のウェイト=1\n",
    "    # 最も古い観測値のウェイト=clf_last_w\n",
    "    clf_w=t_w.sort_index().cumsum()\n",
    "    if clf_last_w>=0: slope=(1.-clf_last_w)/clf_w.iloc[-1]\n",
    "    else: slope=1./((clf_last_w+1)*clf_w.iloc[-1])\n",
    "    const=1.-slope*clf_w.iloc[-1]\n",
    "    clf_w=const+slope*clf_w\n",
    "    clf_w[clf_w < 0]=0\n",
    "    print(const,slope)\n",
    "    return clf_w"
   ]
  },
  {
   "cell_type": "markdown",
   "id": "be9db0ae-3c93-4963-89ff-d9cfd71639f9",
   "metadata": {},
   "source": [
    "## 逐次ブートストラップの例"
   ]
  },
  {
   "cell_type": "code",
   "execution_count": 101,
   "id": "67bb001c-32ff-4a7f-b2a8-27744e7864eb",
   "metadata": {},
   "outputs": [],
   "source": [
    "def main():\n",
    "    \n",
    "    np.random.seed(123)\n",
    "    # 特徴量の観測値それぞれに対するt0,t1\n",
    "    t1=pd.Series([2,3,5],index=[0,2,4])\n",
    "    bar_ix=range(t1.max()+1) # バーのインデックス\n",
    "    ind_m = get_ind_matrix(bar_ix,t1)\n",
    "    phi_random=np.random.choice(ind_m.columns,size=ind_m.shape[1])\n",
    "    print(phi_random)\n",
    "    print(f'Standard uniqueness: {get_avg_uniqueness(ind_m[phi_random]).mean():.4f}')\n",
    "    phi_seq = seq_bootstrap(ind_m)\n",
    "    print(phi_seq)\n",
    "    print(f'Sequential uniqueness: {get_avg_uniqueness(ind_m[phi_seq]).mean():.4f}')"
   ]
  },
  {
   "cell_type": "code",
   "execution_count": 102,
   "id": "a5be827f-1f57-4fd6-9510-a33810fb955d",
   "metadata": {},
   "outputs": [
    {
     "name": "stdout",
     "output_type": "stream",
     "text": [
      "[2 1 2]\n",
      "Standard uniqueness: 0.6667\n",
      "[1, 2, 1]\n",
      "Sequential uniqueness: 0.6667\n"
     ]
    }
   ],
   "source": [
    "main()"
   ]
  },
  {
   "cell_type": "markdown",
   "id": "b2a923b3-345a-4c2a-b98f-1b207eb1a7bf",
   "metadata": {},
   "source": [
    "## データの取得"
   ]
  },
  {
   "cell_type": "code",
   "execution_count": 140,
   "id": "7d2a1e33-36ee-4738-84d4-6ad13133cff3",
   "metadata": {},
   "outputs": [
    {
     "name": "stderr",
     "output_type": "stream",
     "text": [
      "100%|██████████| 60/60 [00:08<00:00,  7.02it/s]\n"
     ]
    }
   ],
   "source": [
    "start = \"20220224\" # 4月1日\n",
    "end = \"20220424\" # 4月24日\n",
    "pair = \"btc_jpy\" # ビットコイン\n",
    "candle_type = \"1hour\" # 1分足\n",
    "\n",
    "df = get_data(start,end,pair,candle_type)"
   ]
  },
  {
   "cell_type": "code",
   "execution_count": 141,
   "id": "e1d97674-cb01-427b-ab83-6886213acd94",
   "metadata": {},
   "outputs": [
    {
     "name": "stdout",
     "output_type": "stream",
     "text": [
      "(1440, 6)\n"
     ]
    },
    {
     "data": {
      "text/html": [
       "<div>\n",
       "<style scoped>\n",
       "    .dataframe tbody tr th:only-of-type {\n",
       "        vertical-align: middle;\n",
       "    }\n",
       "\n",
       "    .dataframe tbody tr th {\n",
       "        vertical-align: top;\n",
       "    }\n",
       "\n",
       "    .dataframe thead th {\n",
       "        text-align: right;\n",
       "    }\n",
       "</style>\n",
       "<table border=\"1\" class=\"dataframe\">\n",
       "  <thead>\n",
       "    <tr style=\"text-align: right;\">\n",
       "      <th></th>\n",
       "      <th>Open</th>\n",
       "      <th>High</th>\n",
       "      <th>Low</th>\n",
       "      <th>Close</th>\n",
       "      <th>Volume</th>\n",
       "      <th>dv</th>\n",
       "    </tr>\n",
       "    <tr>\n",
       "      <th>DateTime</th>\n",
       "      <th></th>\n",
       "      <th></th>\n",
       "      <th></th>\n",
       "      <th></th>\n",
       "      <th></th>\n",
       "      <th></th>\n",
       "    </tr>\n",
       "  </thead>\n",
       "  <tbody>\n",
       "    <tr>\n",
       "      <th>2022-02-24 00:00:00</th>\n",
       "      <td>4281951</td>\n",
       "      <td>4299278</td>\n",
       "      <td>4224003</td>\n",
       "      <td>4224003</td>\n",
       "      <td>28.7923</td>\n",
       "      <td>1.216188e+08</td>\n",
       "    </tr>\n",
       "    <tr>\n",
       "      <th>2022-02-24 01:00:00</th>\n",
       "      <td>4226558</td>\n",
       "      <td>4234769</td>\n",
       "      <td>4226558</td>\n",
       "      <td>4232770</td>\n",
       "      <td>0.1078</td>\n",
       "      <td>4.562926e+05</td>\n",
       "    </tr>\n",
       "    <tr>\n",
       "      <th>2022-02-24 02:00:00</th>\n",
       "      <td>4232771</td>\n",
       "      <td>4259137</td>\n",
       "      <td>4131292</td>\n",
       "      <td>4145490</td>\n",
       "      <td>42.5915</td>\n",
       "      <td>1.765626e+08</td>\n",
       "    </tr>\n",
       "    <tr>\n",
       "      <th>2022-02-24 03:00:00</th>\n",
       "      <td>4139532</td>\n",
       "      <td>4143366</td>\n",
       "      <td>4002030</td>\n",
       "      <td>4020002</td>\n",
       "      <td>164.9086</td>\n",
       "      <td>6.629329e+08</td>\n",
       "    </tr>\n",
       "    <tr>\n",
       "      <th>2022-02-24 04:00:00</th>\n",
       "      <td>4019703</td>\n",
       "      <td>4049790</td>\n",
       "      <td>3980012</td>\n",
       "      <td>4040741</td>\n",
       "      <td>121.0190</td>\n",
       "      <td>4.890064e+08</td>\n",
       "    </tr>\n",
       "  </tbody>\n",
       "</table>\n",
       "</div>"
      ],
      "text/plain": [
       "                        Open     High      Low    Close    Volume  \\\n",
       "DateTime                                                            \n",
       "2022-02-24 00:00:00  4281951  4299278  4224003  4224003   28.7923   \n",
       "2022-02-24 01:00:00  4226558  4234769  4226558  4232770    0.1078   \n",
       "2022-02-24 02:00:00  4232771  4259137  4131292  4145490   42.5915   \n",
       "2022-02-24 03:00:00  4139532  4143366  4002030  4020002  164.9086   \n",
       "2022-02-24 04:00:00  4019703  4049790  3980012  4040741  121.0190   \n",
       "\n",
       "                               dv  \n",
       "DateTime                           \n",
       "2022-02-24 00:00:00  1.216188e+08  \n",
       "2022-02-24 01:00:00  4.562926e+05  \n",
       "2022-02-24 02:00:00  1.765626e+08  \n",
       "2022-02-24 03:00:00  6.629329e+08  \n",
       "2022-02-24 04:00:00  4.890064e+08  "
      ]
     },
     "execution_count": 141,
     "metadata": {},
     "output_type": "execute_result"
    }
   ],
   "source": [
    "df['dv'] = df['Close'].astype(float) * df['Volume'].astype(float)\n",
    "print(df.shape)\n",
    "df.head()"
   ]
  },
  {
   "cell_type": "code",
   "execution_count": 142,
   "id": "09b3de9b-6f03-41e0-b43d-3b8742912a45",
   "metadata": {},
   "outputs": [
    {
     "data": {
      "image/png": "[encoded data removed]",
      "text/plain": [
       "<Figure size 1008x432 with 1 Axes>"
      ]
     },
     "metadata": {
      "needs_background": "light"
     },
     "output_type": "display_data"
    }
   ],
   "source": [
    "df['Close'].astype(float).plot(figsize=(14, 6))\n",
    "plt.grid(True)\n",
    "plt.title('終値')\n",
    "plt.show()"
   ]
  },
  {
   "cell_type": "code",
   "execution_count": 143,
   "id": "d32d3282-dab1-4e0c-869a-d925251e07ae",
   "metadata": {},
   "outputs": [
    {
     "name": "stderr",
     "output_type": "stream",
     "text": [
      "100%|██████████| 1440/1440 [00:00<00:00, 1460652.42it/s]"
     ]
    },
    {
     "name": "stdout",
     "output_type": "stream",
     "text": [
      "タイムバー： (1440, 6)\n",
      "ドルバー (728, 6)\n"
     ]
    },
    {
     "name": "stderr",
     "output_type": "stream",
     "text": [
      "\n"
     ]
    }
   ],
   "source": [
    "threshold = 100000000\n",
    "dollar_bar = dollar_bar_df(df, 'dv', threshold)\n",
    "print('タイムバー：', df.shape)\n",
    "print('ドルバー', dollar_bar.shape)"
   ]
  },
  {
   "cell_type": "code",
   "execution_count": 144,
   "id": "dc1789be-e6d4-42bb-b78d-223ebb8b2885",
   "metadata": {},
   "outputs": [
    {
     "data": {
      "text/html": [
       "<div>\n",
       "<style scoped>\n",
       "    .dataframe tbody tr th:only-of-type {\n",
       "        vertical-align: middle;\n",
       "    }\n",
       "\n",
       "    .dataframe tbody tr th {\n",
       "        vertical-align: top;\n",
       "    }\n",
       "\n",
       "    .dataframe thead th {\n",
       "        text-align: right;\n",
       "    }\n",
       "</style>\n",
       "<table border=\"1\" class=\"dataframe\">\n",
       "  <thead>\n",
       "    <tr style=\"text-align: right;\">\n",
       "      <th></th>\n",
       "      <th>Open</th>\n",
       "      <th>High</th>\n",
       "      <th>Low</th>\n",
       "      <th>Close</th>\n",
       "      <th>Volume</th>\n",
       "      <th>dv</th>\n",
       "    </tr>\n",
       "    <tr>\n",
       "      <th>DateTime</th>\n",
       "      <th></th>\n",
       "      <th></th>\n",
       "      <th></th>\n",
       "      <th></th>\n",
       "      <th></th>\n",
       "      <th></th>\n",
       "    </tr>\n",
       "  </thead>\n",
       "  <tbody>\n",
       "    <tr>\n",
       "      <th>2022-02-24 00:00:00</th>\n",
       "      <td>4281951</td>\n",
       "      <td>4299278</td>\n",
       "      <td>4224003</td>\n",
       "      <td>4224003</td>\n",
       "      <td>28.7923</td>\n",
       "      <td>1.216188e+08</td>\n",
       "    </tr>\n",
       "    <tr>\n",
       "      <th>2022-02-24 02:00:00</th>\n",
       "      <td>4232771</td>\n",
       "      <td>4259137</td>\n",
       "      <td>4131292</td>\n",
       "      <td>4145490</td>\n",
       "      <td>42.5915</td>\n",
       "      <td>1.765626e+08</td>\n",
       "    </tr>\n",
       "    <tr>\n",
       "      <th>2022-02-24 03:00:00</th>\n",
       "      <td>4139532</td>\n",
       "      <td>4143366</td>\n",
       "      <td>4002030</td>\n",
       "      <td>4020002</td>\n",
       "      <td>164.9086</td>\n",
       "      <td>6.629329e+08</td>\n",
       "    </tr>\n",
       "    <tr>\n",
       "      <th>2022-02-24 04:00:00</th>\n",
       "      <td>4019703</td>\n",
       "      <td>4049790</td>\n",
       "      <td>3980012</td>\n",
       "      <td>4040741</td>\n",
       "      <td>121.0190</td>\n",
       "      <td>4.890064e+08</td>\n",
       "    </tr>\n",
       "    <tr>\n",
       "      <th>2022-02-24 05:00:00</th>\n",
       "      <td>4041383</td>\n",
       "      <td>4042979</td>\n",
       "      <td>3963665</td>\n",
       "      <td>3989761</td>\n",
       "      <td>183.2716</td>\n",
       "      <td>7.312099e+08</td>\n",
       "    </tr>\n",
       "  </tbody>\n",
       "</table>\n",
       "</div>"
      ],
      "text/plain": [
       "                        Open     High      Low    Close    Volume  \\\n",
       "DateTime                                                            \n",
       "2022-02-24 00:00:00  4281951  4299278  4224003  4224003   28.7923   \n",
       "2022-02-24 02:00:00  4232771  4259137  4131292  4145490   42.5915   \n",
       "2022-02-24 03:00:00  4139532  4143366  4002030  4020002  164.9086   \n",
       "2022-02-24 04:00:00  4019703  4049790  3980012  4040741  121.0190   \n",
       "2022-02-24 05:00:00  4041383  4042979  3963665  3989761  183.2716   \n",
       "\n",
       "                               dv  \n",
       "DateTime                           \n",
       "2022-02-24 00:00:00  1.216188e+08  \n",
       "2022-02-24 02:00:00  1.765626e+08  \n",
       "2022-02-24 03:00:00  6.629329e+08  \n",
       "2022-02-24 04:00:00  4.890064e+08  \n",
       "2022-02-24 05:00:00  7.312099e+08  "
      ]
     },
     "execution_count": 144,
     "metadata": {},
     "output_type": "execute_result"
    }
   ],
   "source": [
    "dollar_bar.head()"
   ]
  },
  {
   "cell_type": "code",
   "execution_count": 145,
   "id": "cd494d98-42ca-4780-b2c5-190800ed2ab0",
   "metadata": {},
   "outputs": [],
   "source": [
    "columns = df.columns\n",
    "df[columns] = df[columns].astype(float)\n",
    "columns = dollar_bar.columns\n",
    "dollar_bar[columns] = dollar_bar[columns].astype(float)"
   ]
  },
  {
   "cell_type": "code",
   "execution_count": 146,
   "id": "e6af2f83-34fd-4822-bdfa-70cbd0ddb09b",
   "metadata": {},
   "outputs": [],
   "source": [
    "def return_df(df):\n",
    "    df['PrevClose'] = df['Close'].shift(1)\n",
    "    df['Return'] = (df['Close'] - df['PrevClose']) / df['PrevClose']\n",
    "    return df"
   ]
  },
  {
   "cell_type": "code",
   "execution_count": 147,
   "id": "53d067c5-016b-422a-91f3-664e7b4a0972",
   "metadata": {},
   "outputs": [
    {
     "data": {
      "image/png": "[encoded data removed]",
      "text/plain": [
       "<Figure size 504x288 with 1 Axes>"
      ]
     },
     "metadata": {
      "needs_background": "light"
     },
     "output_type": "display_data"
    }
   ],
   "source": [
    "df = return_df(df)\n",
    "dollar_bar = return_df(dollar_bar)\n",
    "plt.figure(figsize=(7, 4))\n",
    "df['Return'].hist(alpha=0.5, label='タイムバー', bins=30, density=True)\n",
    "dollar_bar['Return'].hist(alpha=0.5, label='ドルバー', bins=30, density=True)\n",
    "plt.grid(True)\n",
    "plt.legend()\n",
    "plt.show()"
   ]
  },
  {
   "cell_type": "markdown",
   "id": "a12e58ad-dded-45a0-a3e0-595c06bdb754",
   "metadata": {},
   "source": [
    "## ラベル付け"
   ]
  },
  {
   "cell_type": "code",
   "execution_count": 148,
   "id": "bd923775-5f99-4153-a067-1bd54631dc90",
   "metadata": {},
   "outputs": [],
   "source": [
    "# トリプルバリア法\n",
    "def triple_barrier(df, take_profit=0.02, stop_loss=0.01, max_holding_period=5):\n",
    "    prices = df[\"Close\"].values\n",
    "    label = [0]*len(prices)\n",
    "\n",
    "    for n in range(len(prices)-max_holding_period):\n",
    "        outcome = 0\n",
    "        for m in range(1, max_holding_period):\n",
    "            if prices[n+m]/prices[n] > 1+take_profit:\n",
    "                outcome = 1\n",
    "                break\n",
    "            if prices[n+m]/prices[n] < 1-stop_loss:\n",
    "                outcome = -1\n",
    "                break\n",
    "        if outcome == 0:\n",
    "            outcome = 0\n",
    "        label[n] = outcome\n",
    "    labels = pd.DataFrame(label, index=df.index, columns=[\"bin\"])\n",
    "\n",
    "    labels = labels.replace(0.02, 1)\n",
    "    labels = labels.replace(0.00, 0)\n",
    "    labels = labels.replace(-0.01, -1)\n",
    "    \n",
    "    return labels"
   ]
  },
  {
   "cell_type": "code",
   "execution_count": 149,
   "id": "c0daa943-eca9-4e17-9a87-4f02740977f1",
   "metadata": {},
   "outputs": [
    {
     "data": {
      "text/plain": [
       "bin\n",
       " 0     400\n",
       "-1     223\n",
       " 1     105\n",
       "dtype: int64"
      ]
     },
     "execution_count": 149,
     "metadata": {},
     "output_type": "execute_result"
    }
   ],
   "source": [
    "labels = triple_barrier(dollar_bar)\n",
    "labels.value_counts()"
   ]
  },
  {
   "cell_type": "code",
   "execution_count": 151,
   "id": "9d3a4db9-6662-452f-8ae0-0526458c698a",
   "metadata": {},
   "outputs": [],
   "source": [
    "dollar_bar['bin'] = labels"
   ]
  },
  {
   "cell_type": "markdown",
   "id": "a922132e-9a14-4297-a23e-a6e2b04bf4b5",
   "metadata": {},
   "source": [
    "## 重複した結果"
   ]
  },
  {
   "cell_type": "code",
   "execution_count": 159,
   "id": "f31140a9-afdc-4250-b56b-a0467a7d2ada",
   "metadata": {},
   "outputs": [
    {
     "name": "stdout",
     "output_type": "stream",
     "text": [
      "ラベルの重複数 546\n",
      "0 324\n",
      "-1 154\n",
      "1 68\n",
      "==============================\n",
      "リターンの重複数 0\n"
     ]
    }
   ],
   "source": [
    "count = 0\n",
    "bins = []\n",
    "for i in range(dollar_bar.shape[0]-1):\n",
    "    now = dollar_bar['bin'][i]\n",
    "    nxt = dollar_bar['bin'][i+1]\n",
    "    if now == nxt:\n",
    "        count += 1\n",
    "        bins.append(now)\n",
    "print('ラベルの重複数', count)\n",
    "print('0', bins.count(0))\n",
    "print('-1', bins.count(-1))\n",
    "print('1', bins.count(1))\n",
    "print('=' * 30)\n",
    "count = 0\n",
    "for i in range(dollar_bar.shape[0]-1):\n",
    "    now = dollar_bar['Return'][i]\n",
    "    nxt = dollar_bar['Return'][i+1]\n",
    "    if now == nxt:\n",
    "        count += 1\n",
    "print('リターンの重複数', count)"
   ]
  },
  {
   "cell_type": "markdown",
   "id": "d2b82be5-467f-4a44-9d21-a407a752b53a",
   "metadata": {},
   "source": [
    "# リターンは重複していないため、終了？"
   ]
  },
  {
   "cell_type": "code",
   "execution_count": null,
   "id": "a1c2bfca-7998-4fee-b9bd-060795b68600",
   "metadata": {},
   "outputs": [],
   "source": []
  }
 ],
 "metadata": {
  "kernelspec": {
   "display_name": "Python 3 (ipykernel)",
   "language": "python",
   "name": "python3"
  },
  "language_info": {
   "codemirror_mode": {
    "name": "ipython",
    "version": 3
   },
   "file_extension": ".py",
   "mimetype": "text/x-python",
   "name": "python",
   "nbconvert_exporter": "python",
   "pygments_lexer": "ipython3",
   "version": "3.8.13"
  }
 },
 "nbformat": 4,
 "nbformat_minor": 5
}
