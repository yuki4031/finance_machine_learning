{
 "cells": [
  {
   "cell_type": "markdown",
   "id": "716d6fac-c876-40dd-b5c5-6166ca27f0f3",
   "metadata": {},
   "source": [
    "## ライブラリの読み込み"
   ]
  },
  {
   "cell_type": "code",
   "execution_count": 1,
   "id": "78a8276b-e8b0-4395-ace5-f0b269e7cdd0",
   "metadata": {},
   "outputs": [],
   "source": [
    "import datetime\n",
    "import numpy as np\n",
    "import pandas as pd\n",
    "import pandas_datareader.data as web\n",
    "import matplotlib.pyplot as plt\n",
    "import japanize_matplotlib"
   ]
  },
  {
   "cell_type": "markdown",
   "id": "03b39b2b-0c34-4b35-b67d-a072a73015df",
   "metadata": {},
   "source": [
    "## データの取得"
   ]
  },
  {
   "cell_type": "code",
   "execution_count": 2,
   "id": "6783325f-5eab-4f66-84a7-0b130a6dc1ee",
   "metadata": {},
   "outputs": [
    {
     "name": "stdout",
     "output_type": "stream",
     "text": [
      "欠損値の確認\n",
      "High         0\n",
      "Low          0\n",
      "Open         0\n",
      "Close        0\n",
      "Volume       0\n",
      "Adj Close    0\n",
      "dtype: int64\n",
      "形状の確認 (2532, 6)\n"
     ]
    },
    {
     "data": {
      "text/html": [
       "<div>\n",
       "<style scoped>\n",
       "    .dataframe tbody tr th:only-of-type {\n",
       "        vertical-align: middle;\n",
       "    }\n",
       "\n",
       "    .dataframe tbody tr th {\n",
       "        vertical-align: top;\n",
       "    }\n",
       "\n",
       "    .dataframe thead th {\n",
       "        text-align: right;\n",
       "    }\n",
       "</style>\n",
       "<table border=\"1\" class=\"dataframe\">\n",
       "  <thead>\n",
       "    <tr style=\"text-align: right;\">\n",
       "      <th></th>\n",
       "      <th>High</th>\n",
       "      <th>Low</th>\n",
       "      <th>Open</th>\n",
       "      <th>Close</th>\n",
       "      <th>Volume</th>\n",
       "      <th>Adj Close</th>\n",
       "    </tr>\n",
       "    <tr>\n",
       "      <th>Date</th>\n",
       "      <th></th>\n",
       "      <th></th>\n",
       "      <th></th>\n",
       "      <th></th>\n",
       "      <th></th>\n",
       "      <th></th>\n",
       "    </tr>\n",
       "  </thead>\n",
       "  <tbody>\n",
       "    <tr>\n",
       "      <th>2022-04-01</th>\n",
       "      <td>2238.0</td>\n",
       "      <td>2174.5</td>\n",
       "      <td>2222.5</td>\n",
       "      <td>2205.0</td>\n",
       "      <td>27719800.0</td>\n",
       "      <td>2205.0</td>\n",
       "    </tr>\n",
       "    <tr>\n",
       "      <th>2022-04-04</th>\n",
       "      <td>2213.5</td>\n",
       "      <td>2192.0</td>\n",
       "      <td>2193.0</td>\n",
       "      <td>2211.0</td>\n",
       "      <td>16276100.0</td>\n",
       "      <td>2211.0</td>\n",
       "    </tr>\n",
       "    <tr>\n",
       "      <th>2022-04-05</th>\n",
       "      <td>2236.0</td>\n",
       "      <td>2202.5</td>\n",
       "      <td>2231.0</td>\n",
       "      <td>2217.5</td>\n",
       "      <td>21878700.0</td>\n",
       "      <td>2217.5</td>\n",
       "    </tr>\n",
       "    <tr>\n",
       "      <th>2022-04-06</th>\n",
       "      <td>2201.5</td>\n",
       "      <td>2176.0</td>\n",
       "      <td>2192.0</td>\n",
       "      <td>2190.0</td>\n",
       "      <td>28164400.0</td>\n",
       "      <td>2190.0</td>\n",
       "    </tr>\n",
       "    <tr>\n",
       "      <th>2022-04-07</th>\n",
       "      <td>2173.0</td>\n",
       "      <td>2132.0</td>\n",
       "      <td>2166.0</td>\n",
       "      <td>2153.0</td>\n",
       "      <td>12718300.0</td>\n",
       "      <td>2153.0</td>\n",
       "    </tr>\n",
       "  </tbody>\n",
       "</table>\n",
       "</div>"
      ],
      "text/plain": [
       "              High     Low    Open   Close      Volume  Adj Close\n",
       "Date                                                             \n",
       "2022-04-01  2238.0  2174.5  2222.5  2205.0  27719800.0     2205.0\n",
       "2022-04-04  2213.5  2192.0  2193.0  2211.0  16276100.0     2211.0\n",
       "2022-04-05  2236.0  2202.5  2231.0  2217.5  21878700.0     2217.5\n",
       "2022-04-06  2201.5  2176.0  2192.0  2190.0  28164400.0     2190.0\n",
       "2022-04-07  2173.0  2132.0  2166.0  2153.0  12718300.0     2153.0"
      ]
     },
     "execution_count": 2,
     "metadata": {},
     "output_type": "execute_result"
    }
   ],
   "source": [
    "toyota_code = '7203.T'\n",
    "start = datetime.date(2012, 1, 1)\n",
    "\n",
    "day_df = web.DataReader(toyota_code, 'yahoo', start)\n",
    "print('欠損値の確認')\n",
    "print(day_df.isnull().sum())\n",
    "print('形状の確認', day_df.shape)\n",
    "day_df.tail()"
   ]
  },
  {
   "cell_type": "markdown",
   "id": "d09e074b-3c2e-4fe6-8619-041b6c31509b",
   "metadata": {},
   "source": [
    "## リターンの計算"
   ]
  },
  {
   "cell_type": "code",
   "execution_count": 3,
   "id": "ba489ba2-af4e-4c79-95e9-62134e1f5fdb",
   "metadata": {},
   "outputs": [],
   "source": [
    "day_df['PrevClose'] = day_df['Close'].shift(1)\n",
    "day_df['Return'] = (day_df['Close'] - day_df['PrevClose']) / day_df['PrevClose']"
   ]
  },
  {
   "cell_type": "markdown",
   "id": "d4f93048-e4bd-46f8-b40a-a85df3aa7841",
   "metadata": {},
   "source": [
    "## 固定時間ホライズン法によるラべリング"
   ]
  },
  {
   "cell_type": "code",
   "execution_count": 46,
   "id": "54b0a97f-d7c6-4035-9573-4cfd451098ae",
   "metadata": {},
   "outputs": [],
   "source": [
    "def fixed_time_horizon(data, threshold):\n",
    "    '''\n",
    "    data: pd.Seriesのリターンデータ\n",
    "    threshold: 閾値\n",
    "    '''\n",
    "    label_df = pd.DataFrame(index=data.index, columns=['Return', 'Label'])\n",
    "    \n",
    "    idx_lower = data[data < -threshold].index\n",
    "    idx_middle = data[abs(data) <= threshold].index\n",
    "    idx_upper = data[data > threshold].index\n",
    "    \n",
    "    label_df['Return'] = data\n",
    "    label_df.loc[idx_lower, 'Label'] = -1\n",
    "    label_df.loc[idx_middle, 'Label'] = 0\n",
    "    label_df.loc[idx_upper, 'Label'] = 1\n",
    "    \n",
    "    return label_df"
   ]
  },
  {
   "cell_type": "code",
   "execution_count": 47,
   "id": "fff1c95a-08c5-4348-ac51-52218c898159",
   "metadata": {},
   "outputs": [
    {
     "data": {
      "image/png": "[encoded data removed]",
      "text/plain": [
       "<Figure size 576x288 with 1 Axes>"
      ]
     },
     "metadata": {
      "needs_background": "light"
     },
     "output_type": "display_data"
    }
   ],
   "source": [
    "day_df['Return'].plot(figsize=(8, 4), alpha=0.7)\n",
    "plt.grid(True)\n",
    "plt.show()"
   ]
  },
  {
   "cell_type": "code",
   "execution_count": 50,
   "id": "4a5e89cc-3d18-4819-950b-0cf083ace41e",
   "metadata": {},
   "outputs": [
    {
     "data": {
      "text/html": [
       "<div>\n",
       "<style scoped>\n",
       "    .dataframe tbody tr th:only-of-type {\n",
       "        vertical-align: middle;\n",
       "    }\n",
       "\n",
       "    .dataframe tbody tr th {\n",
       "        vertical-align: top;\n",
       "    }\n",
       "\n",
       "    .dataframe thead th {\n",
       "        text-align: right;\n",
       "    }\n",
       "</style>\n",
       "<table border=\"1\" class=\"dataframe\">\n",
       "  <thead>\n",
       "    <tr style=\"text-align: right;\">\n",
       "      <th></th>\n",
       "      <th>Return</th>\n",
       "      <th>Label</th>\n",
       "    </tr>\n",
       "    <tr>\n",
       "      <th>Date</th>\n",
       "      <th></th>\n",
       "      <th></th>\n",
       "    </tr>\n",
       "  </thead>\n",
       "  <tbody>\n",
       "    <tr>\n",
       "      <th>2012-01-05</th>\n",
       "      <td>0.000000</td>\n",
       "      <td>0</td>\n",
       "    </tr>\n",
       "    <tr>\n",
       "      <th>2012-01-06</th>\n",
       "      <td>-0.002269</td>\n",
       "      <td>-1</td>\n",
       "    </tr>\n",
       "    <tr>\n",
       "      <th>2012-01-10</th>\n",
       "      <td>-0.004549</td>\n",
       "      <td>-1</td>\n",
       "    </tr>\n",
       "    <tr>\n",
       "      <th>2012-01-11</th>\n",
       "      <td>0.000000</td>\n",
       "      <td>0</td>\n",
       "    </tr>\n",
       "    <tr>\n",
       "      <th>2012-01-12</th>\n",
       "      <td>-0.011805</td>\n",
       "      <td>-1</td>\n",
       "    </tr>\n",
       "  </tbody>\n",
       "</table>\n",
       "</div>"
      ],
      "text/plain": [
       "              Return Label\n",
       "Date                      \n",
       "2012-01-05  0.000000     0\n",
       "2012-01-06 -0.002269    -1\n",
       "2012-01-10 -0.004549    -1\n",
       "2012-01-11  0.000000     0\n",
       "2012-01-12 -0.011805    -1"
      ]
     },
     "metadata": {},
     "output_type": "display_data"
    },
    {
     "data": {
      "image/png": "[encoded data removed]",
      "text/plain": [
       "<Figure size 432x288 with 1 Axes>"
      ]
     },
     "metadata": {
      "needs_background": "light"
     },
     "output_type": "display_data"
    }
   ],
   "source": [
    "day_df_dropped = day_df.dropna()\n",
    "label_df = fixed_time_horizon(day_df_dropped['Return'], 0.002)\n",
    "display(label_df.head())\n",
    "plt.hist(label_df['Label'], alpha=0.7)\n",
    "plt.title('各ラベルの数')\n",
    "plt.grid(True)\n",
    "plt.show()"
   ]
  },
  {
   "cell_type": "markdown",
   "id": "c8d76a51-be34-4771-8c5b-af0cd9bb7dc0",
   "metadata": {},
   "source": [
    "## 動的閾値を計算するための関数"
   ]
  },
  {
   "cell_type": "code",
   "execution_count": 7,
   "id": "6e6f0d6a-833c-42e4-b63e-7121cd1eca77",
   "metadata": {},
   "outputs": [],
   "source": [
    "def get_daily_vol(close, span0=100):\n",
    "    # 日次ボラティリティ、close(株価系列)に従いインデックスを再編成\n",
    "    df0 = close.index.searchsorted(close.index - pd.Timedelta(days=1))\n",
    "    df0 = df0[df0 > 0]\n",
    "    df0 = pd.Series(close.index[df0 - 1], index=close.index[close.shape[0] - df0.shape[0]:])\n",
    "    # 日次リターン\n",
    "    df0 = close.loc[df0.index] / close.loc[df0.values].values - 1\n",
    "    df0 = df0.ewm(span=span0).std()\n",
    "    return df0"
   ]
  },
  {
   "cell_type": "code",
   "execution_count": 8,
   "id": "b1e07ced-c8a9-407a-99c6-707c21f15bc4",
   "metadata": {},
   "outputs": [],
   "source": [
    "x = get_daily_vol(day_df['Close'])"
   ]
  },
  {
   "cell_type": "code",
   "execution_count": 10,
   "id": "c5d8749a-8c8b-46fa-893c-e913dc137875",
   "metadata": {},
   "outputs": [
    {
     "data": {
      "text/plain": [
       "Date\n",
       "2012-01-06         NaN\n",
       "2012-01-10    0.001612\n",
       "2012-01-11    0.001309\n",
       "2012-01-12    0.004178\n",
       "2012-01-13    0.005812\n",
       "Name: Close, dtype: float64"
      ]
     },
     "execution_count": 10,
     "metadata": {},
     "output_type": "execute_result"
    }
   ],
   "source": [
    "x.head()"
   ]
  },
  {
   "cell_type": "code",
   "execution_count": null,
   "id": "8cc89d6c-8889-4f74-9b38-d3bac1fa8cd4",
   "metadata": {},
   "outputs": [],
   "source": []
  }
 ],
 "metadata": {
  "kernelspec": {
   "display_name": "Python 3 (ipykernel)",
   "language": "python",
   "name": "python3"
  },
  "language_info": {
   "codemirror_mode": {
    "name": "ipython",
    "version": 3
   },
   "file_extension": ".py",
   "mimetype": "text/x-python",
   "name": "python",
   "nbconvert_exporter": "python",
   "pygments_lexer": "ipython3",
   "version": "3.8.13"
  }
 },
 "nbformat": 4,
 "nbformat_minor": 5
}
